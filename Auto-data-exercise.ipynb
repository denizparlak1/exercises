{
 "cells": [
  {
   "cell_type": "markdown",
   "metadata": {},
   "source": [
    "# Automobile Data Price Prediction"
   ]
  },
  {
   "cell_type": "markdown",
   "metadata": {},
   "source": [
    "This is a exercise notebook about EDA, Lineer Regression, Regulization, Futute Engineerin and more.\n",
    "\n",
    "Data include automobile data such as engine, wheel, price etc.\n"
   ]
  },
  {
   "cell_type": "code",
   "execution_count": 2,
   "metadata": {},
   "outputs": [],
   "source": [
    "# Import necessary libraries\n",
    "import pandas as pd\n",
    "import numpy as np\n",
    "import matplotlib.pyplot as plt\n",
    "import seaborn as sns"
   ]
  },
  {
   "cell_type": "code",
   "execution_count": 3,
   "metadata": {},
   "outputs": [],
   "source": [
    "# Load data\n",
    "df =pd.read_csv('http://archive.ics.uci.edu/ml/machine-learning-databases/autos/imports-85.data', header=None)\n",
    "\n",
    "columns= ['symboling','normalized_losses','make','fuel_type',\n",
    "          'aspiration','num_of_doors','body_style','drive_wheels',\n",
    "          'engine_location','wheel_base','length','width','height',\n",
    "          'curb_weight','engine_type','num_of_cylinders','engine_size',\n",
    "          'fuel_system','bore','stroke','compression_ratio','horsepower',\n",
    "          'peak_rpm','city_mpg','highway_mpg','price']\n",
    "df.columns=columns"
   ]
  },
  {
   "cell_type": "code",
   "execution_count": 6,
   "metadata": {},
   "outputs": [
    {
     "data": {
      "text/html": [
       "<div>\n",
       "<style scoped>\n",
       "    .dataframe tbody tr th:only-of-type {\n",
       "        vertical-align: middle;\n",
       "    }\n",
       "\n",
       "    .dataframe tbody tr th {\n",
       "        vertical-align: top;\n",
       "    }\n",
       "\n",
       "    .dataframe thead th {\n",
       "        text-align: right;\n",
       "    }\n",
       "</style>\n",
       "<table border=\"1\" class=\"dataframe\">\n",
       "  <thead>\n",
       "    <tr style=\"text-align: right;\">\n",
       "      <th></th>\n",
       "      <th>symboling</th>\n",
       "      <th>normalized_losses</th>\n",
       "      <th>make</th>\n",
       "      <th>fuel_type</th>\n",
       "      <th>aspiration</th>\n",
       "      <th>num_of_doors</th>\n",
       "      <th>body_style</th>\n",
       "      <th>drive_wheels</th>\n",
       "      <th>engine_location</th>\n",
       "      <th>wheel_base</th>\n",
       "      <th>...</th>\n",
       "      <th>engine_size</th>\n",
       "      <th>fuel_system</th>\n",
       "      <th>bore</th>\n",
       "      <th>stroke</th>\n",
       "      <th>compression_ratio</th>\n",
       "      <th>horsepower</th>\n",
       "      <th>peak_rpm</th>\n",
       "      <th>city_mpg</th>\n",
       "      <th>highway_mpg</th>\n",
       "      <th>price</th>\n",
       "    </tr>\n",
       "  </thead>\n",
       "  <tbody>\n",
       "    <tr>\n",
       "      <td>0</td>\n",
       "      <td>3</td>\n",
       "      <td>?</td>\n",
       "      <td>alfa-romero</td>\n",
       "      <td>gas</td>\n",
       "      <td>std</td>\n",
       "      <td>two</td>\n",
       "      <td>convertible</td>\n",
       "      <td>rwd</td>\n",
       "      <td>front</td>\n",
       "      <td>88.6</td>\n",
       "      <td>...</td>\n",
       "      <td>130</td>\n",
       "      <td>mpfi</td>\n",
       "      <td>3.47</td>\n",
       "      <td>2.68</td>\n",
       "      <td>9.0</td>\n",
       "      <td>111</td>\n",
       "      <td>5000</td>\n",
       "      <td>21</td>\n",
       "      <td>27</td>\n",
       "      <td>13495</td>\n",
       "    </tr>\n",
       "    <tr>\n",
       "      <td>1</td>\n",
       "      <td>3</td>\n",
       "      <td>?</td>\n",
       "      <td>alfa-romero</td>\n",
       "      <td>gas</td>\n",
       "      <td>std</td>\n",
       "      <td>two</td>\n",
       "      <td>convertible</td>\n",
       "      <td>rwd</td>\n",
       "      <td>front</td>\n",
       "      <td>88.6</td>\n",
       "      <td>...</td>\n",
       "      <td>130</td>\n",
       "      <td>mpfi</td>\n",
       "      <td>3.47</td>\n",
       "      <td>2.68</td>\n",
       "      <td>9.0</td>\n",
       "      <td>111</td>\n",
       "      <td>5000</td>\n",
       "      <td>21</td>\n",
       "      <td>27</td>\n",
       "      <td>16500</td>\n",
       "    </tr>\n",
       "    <tr>\n",
       "      <td>2</td>\n",
       "      <td>1</td>\n",
       "      <td>?</td>\n",
       "      <td>alfa-romero</td>\n",
       "      <td>gas</td>\n",
       "      <td>std</td>\n",
       "      <td>two</td>\n",
       "      <td>hatchback</td>\n",
       "      <td>rwd</td>\n",
       "      <td>front</td>\n",
       "      <td>94.5</td>\n",
       "      <td>...</td>\n",
       "      <td>152</td>\n",
       "      <td>mpfi</td>\n",
       "      <td>2.68</td>\n",
       "      <td>3.47</td>\n",
       "      <td>9.0</td>\n",
       "      <td>154</td>\n",
       "      <td>5000</td>\n",
       "      <td>19</td>\n",
       "      <td>26</td>\n",
       "      <td>16500</td>\n",
       "    </tr>\n",
       "    <tr>\n",
       "      <td>3</td>\n",
       "      <td>2</td>\n",
       "      <td>164</td>\n",
       "      <td>audi</td>\n",
       "      <td>gas</td>\n",
       "      <td>std</td>\n",
       "      <td>four</td>\n",
       "      <td>sedan</td>\n",
       "      <td>fwd</td>\n",
       "      <td>front</td>\n",
       "      <td>99.8</td>\n",
       "      <td>...</td>\n",
       "      <td>109</td>\n",
       "      <td>mpfi</td>\n",
       "      <td>3.19</td>\n",
       "      <td>3.40</td>\n",
       "      <td>10.0</td>\n",
       "      <td>102</td>\n",
       "      <td>5500</td>\n",
       "      <td>24</td>\n",
       "      <td>30</td>\n",
       "      <td>13950</td>\n",
       "    </tr>\n",
       "    <tr>\n",
       "      <td>4</td>\n",
       "      <td>2</td>\n",
       "      <td>164</td>\n",
       "      <td>audi</td>\n",
       "      <td>gas</td>\n",
       "      <td>std</td>\n",
       "      <td>four</td>\n",
       "      <td>sedan</td>\n",
       "      <td>4wd</td>\n",
       "      <td>front</td>\n",
       "      <td>99.4</td>\n",
       "      <td>...</td>\n",
       "      <td>136</td>\n",
       "      <td>mpfi</td>\n",
       "      <td>3.19</td>\n",
       "      <td>3.40</td>\n",
       "      <td>8.0</td>\n",
       "      <td>115</td>\n",
       "      <td>5500</td>\n",
       "      <td>18</td>\n",
       "      <td>22</td>\n",
       "      <td>17450</td>\n",
       "    </tr>\n",
       "  </tbody>\n",
       "</table>\n",
       "<p>5 rows × 26 columns</p>\n",
       "</div>"
      ],
      "text/plain": [
       "   symboling normalized_losses         make fuel_type aspiration num_of_doors  \\\n",
       "0          3                 ?  alfa-romero       gas        std          two   \n",
       "1          3                 ?  alfa-romero       gas        std          two   \n",
       "2          1                 ?  alfa-romero       gas        std          two   \n",
       "3          2               164         audi       gas        std         four   \n",
       "4          2               164         audi       gas        std         four   \n",
       "\n",
       "    body_style drive_wheels engine_location  wheel_base  ...  engine_size  \\\n",
       "0  convertible          rwd           front        88.6  ...          130   \n",
       "1  convertible          rwd           front        88.6  ...          130   \n",
       "2    hatchback          rwd           front        94.5  ...          152   \n",
       "3        sedan          fwd           front        99.8  ...          109   \n",
       "4        sedan          4wd           front        99.4  ...          136   \n",
       "\n",
       "   fuel_system  bore  stroke compression_ratio horsepower  peak_rpm city_mpg  \\\n",
       "0         mpfi  3.47    2.68               9.0        111      5000       21   \n",
       "1         mpfi  3.47    2.68               9.0        111      5000       21   \n",
       "2         mpfi  2.68    3.47               9.0        154      5000       19   \n",
       "3         mpfi  3.19    3.40              10.0        102      5500       24   \n",
       "4         mpfi  3.19    3.40               8.0        115      5500       18   \n",
       "\n",
       "  highway_mpg  price  \n",
       "0          27  13495  \n",
       "1          27  16500  \n",
       "2          26  16500  \n",
       "3          30  13950  \n",
       "4          22  17450  \n",
       "\n",
       "[5 rows x 26 columns]"
      ]
     },
     "execution_count": 6,
     "metadata": {},
     "output_type": "execute_result"
    }
   ],
   "source": [
    "df.head()"
   ]
  },
  {
   "cell_type": "markdown",
   "metadata": {},
   "source": [
    "We have some some bad values like  '?', it needs replace"
   ]
  },
  {
   "cell_type": "code",
   "execution_count": 4,
   "metadata": {},
   "outputs": [],
   "source": [
    "df = df.replace('?',np.NaN).dropna().reset_index()"
   ]
  },
  {
   "cell_type": "code",
   "execution_count": 82,
   "metadata": {},
   "outputs": [
    {
     "name": "stdout",
     "output_type": "stream",
     "text": [
      "<class 'pandas.core.frame.DataFrame'>\n",
      "RangeIndex: 159 entries, 0 to 158\n",
      "Data columns (total 27 columns):\n",
      "index                159 non-null int64\n",
      "symboling            159 non-null int64\n",
      "normalized_losses    159 non-null object\n",
      "make                 159 non-null object\n",
      "fuel_type            159 non-null object\n",
      "aspiration           159 non-null object\n",
      "num_of_doors         159 non-null object\n",
      "body_style           159 non-null object\n",
      "drive_wheels         159 non-null object\n",
      "engine_location      159 non-null object\n",
      "wheel_base           159 non-null float64\n",
      "length               159 non-null float64\n",
      "width                159 non-null float64\n",
      "height               159 non-null float64\n",
      "curb_weight          159 non-null int64\n",
      "engine_type          159 non-null object\n",
      "num_of_cylinders     159 non-null object\n",
      "engine_size          159 non-null int64\n",
      "fuel_system          159 non-null object\n",
      "bore                 159 non-null object\n",
      "stroke               159 non-null object\n",
      "compression_ratio    159 non-null float64\n",
      "horsepower           159 non-null object\n",
      "peak_rpm             159 non-null object\n",
      "city_mpg             159 non-null int64\n",
      "highway_mpg          159 non-null int64\n",
      "price                159 non-null int32\n",
      "dtypes: float64(5), int32(1), int64(6), object(15)\n",
      "memory usage: 33.0+ KB\n"
     ]
    }
   ],
   "source": [
    "df.info()"
   ]
  },
  {
   "cell_type": "markdown",
   "metadata": {},
   "source": [
    "I change price type, because it will using label for Regression Model."
   ]
  },
  {
   "cell_type": "code",
   "execution_count": 5,
   "metadata": {},
   "outputs": [],
   "source": [
    "df['price'] = df['price'].astype(int)"
   ]
  },
  {
   "cell_type": "markdown",
   "metadata": {},
   "source": [
    "Okay, we are ready for the simplest examples. But i will edit a lot of things in close time"
   ]
  },
  {
   "cell_type": "code",
   "execution_count": 6,
   "metadata": {},
   "outputs": [
    {
     "data": {
      "text/plain": [
       "<seaborn.axisgrid.FacetGrid at 0x26308a65d48>"
      ]
     },
     "execution_count": 6,
     "metadata": {},
     "output_type": "execute_result"
    },
    {
     "data": {
      "image/png": "[encoded data removed]",
      "text/plain": [
       "<Figure size 648x720 with 1 Axes>"
      ]
     },
     "metadata": {
      "needs_background": "light"
     },
     "output_type": "display_data"
    }
   ],
   "source": [
    "make_group = df.groupby('make')[['make','price']].mean().sort_values(by='price',ascending=True).reset_index()\n",
    "sns.catplot(x='make',y='price',data=make_group, kind=\"bar\",height=10,aspect=0.9).set_xticklabels(rotation=45)"
   ]
  },
  {
   "cell_type": "code",
   "execution_count": 18,
   "metadata": {},
   "outputs": [
    {
     "data": {
      "text/html": [
       "<div>\n",
       "<style scoped>\n",
       "    .dataframe tbody tr th:only-of-type {\n",
       "        vertical-align: middle;\n",
       "    }\n",
       "\n",
       "    .dataframe tbody tr th {\n",
       "        vertical-align: top;\n",
       "    }\n",
       "\n",
       "    .dataframe thead th {\n",
       "        text-align: right;\n",
       "    }\n",
       "</style>\n",
       "<table border=\"1\" class=\"dataframe\">\n",
       "  <thead>\n",
       "    <tr style=\"text-align: right;\">\n",
       "      <th></th>\n",
       "      <th>make</th>\n",
       "      <th>city_mpg</th>\n",
       "      <th>highway_mpg</th>\n",
       "      <th>price</th>\n",
       "    </tr>\n",
       "  </thead>\n",
       "  <tbody>\n",
       "    <tr>\n",
       "      <td>32</td>\n",
       "      <td>jaguar</td>\n",
       "      <td>15</td>\n",
       "      <td>19</td>\n",
       "      <td>32250</td>\n",
       "    </tr>\n",
       "    <tr>\n",
       "      <td>48</td>\n",
       "      <td>mercedes-benz</td>\n",
       "      <td>16</td>\n",
       "      <td>18</td>\n",
       "      <td>35056</td>\n",
       "    </tr>\n",
       "  </tbody>\n",
       "</table>\n",
       "</div>"
      ],
      "text/plain": [
       "             make  city_mpg  highway_mpg  price\n",
       "32         jaguar        15           19  32250\n",
       "48  mercedes-benz        16           18  35056"
      ]
     },
     "execution_count": 18,
     "metadata": {},
     "output_type": "execute_result"
    }
   ],
   "source": [
    "# Very important result: which car has minimum mpg, it has most expensive price\n",
    "df.loc[(df.highway_mpg==df.highway_mpg.min()) | (df.city_mpg==df.city_mpg.min())][['make','city_mpg','highway_mpg','price']]"
   ]
  },
  {
   "cell_type": "code",
   "execution_count": 20,
   "metadata": {},
   "outputs": [
    {
     "data": {
      "text/html": [
       "<div>\n",
       "<style scoped>\n",
       "    .dataframe tbody tr th:only-of-type {\n",
       "        vertical-align: middle;\n",
       "    }\n",
       "\n",
       "    .dataframe tbody tr th {\n",
       "        vertical-align: top;\n",
       "    }\n",
       "\n",
       "    .dataframe thead th {\n",
       "        text-align: right;\n",
       "    }\n",
       "</style>\n",
       "<table border=\"1\" class=\"dataframe\">\n",
       "  <thead>\n",
       "    <tr style=\"text-align: right;\">\n",
       "      <th></th>\n",
       "      <th>price</th>\n",
       "      <th>fuel_system</th>\n",
       "    </tr>\n",
       "  </thead>\n",
       "  <tbody>\n",
       "    <tr>\n",
       "      <td>48</td>\n",
       "      <td>35056</td>\n",
       "      <td>mpfi</td>\n",
       "    </tr>\n",
       "    <tr>\n",
       "      <td>32</td>\n",
       "      <td>32250</td>\n",
       "      <td>mpfi</td>\n",
       "    </tr>\n",
       "    <tr>\n",
       "      <td>47</td>\n",
       "      <td>31600</td>\n",
       "      <td>idi</td>\n",
       "    </tr>\n",
       "    <tr>\n",
       "      <td>45</td>\n",
       "      <td>28248</td>\n",
       "      <td>idi</td>\n",
       "    </tr>\n",
       "  </tbody>\n",
       "</table>\n",
       "</div>"
      ],
      "text/plain": [
       "    price fuel_system\n",
       "48  35056        mpfi\n",
       "32  32250        mpfi\n",
       "47  31600         idi\n",
       "45  28248         idi"
      ]
     },
     "execution_count": 20,
     "metadata": {},
     "output_type": "execute_result"
    }
   ],
   "source": [
    "# Another important result fuel system. Looks like not important, bu if you see first count and last count by price, you could see de differences\n",
    "df[['price','fuel_system']].sort_values(by='price',ascending=False).head(4)"
   ]
  },
  {
   "cell_type": "code",
   "execution_count": 7,
   "metadata": {},
   "outputs": [
    {
     "data": {
      "text/plain": [
       "<matplotlib.axes._subplots.AxesSubplot at 0x26309067e48>"
      ]
     },
     "execution_count": 7,
     "metadata": {},
     "output_type": "execute_result"
    },
    {
     "data": {
      "image/png": "[encoded data removed]",
      "text/plain": [
       "<Figure size 720x720 with 1 Axes>"
      ]
     },
     "metadata": {
      "needs_background": "light"
     },
     "output_type": "display_data"
    }
   ],
   "source": [
    "res = df.loc[:50][['make','highway_mpg','price']].sort_values(by='price',ascending=False)\n",
    "res\n",
    "plt.figure(figsize=(10,10))\n",
    "sns.lineplot(x='highway_mpg',y='price',hue='make',data=res)\n"
   ]
  },
  {
   "cell_type": "markdown",
   "metadata": {},
   "source": [
    "### I able to much graphic and analyse, but let's go to Regression part"
   ]
  },
  {
   "cell_type": "markdown",
   "metadata": {},
   "source": [
    "First i create really basic model, give only some integer columns and no changes before"
   ]
  },
  {
   "cell_type": "code",
   "execution_count": 89,
   "metadata": {},
   "outputs": [],
   "source": [
    "from sklearn.linear_model import LinearRegression\n",
    "from sklearn.model_selection import train_test_split\n",
    "from pandas import DataFrame,Series\n",
    "\n",
    "# I created function so it was more useful.\n",
    "\n",
    "def linear_regression(x,y):\n",
    "    \n",
    "    x_train,x_test,y_train,y_test = train_test_split(x,y,test_size=0.2,random_state=10)\n",
    "    model = LinearRegression()\n",
    "    model.fit(x_train,y_train)\n",
    "    predict = model.predict(x_test)\n",
    "    mse = np.mean((y_test-predict)**2)\n",
    "    \n",
    "    #result = pd.DataFrame({'Actual': y_test, 'Predicted': predict})\n",
    "    #result.plot(kind='bar',figsize=(16,10))\n",
    "    \n",
    "\n",
    "    print(\"Model score : \", model.score(x_test,y_test))\n",
    "    print(\"MSE : \",mse)\n",
    "    coeff = DataFrame(x_train.columns)\n",
    "    \n",
    "    coeff['Coef est'] = Series(model.coef_)\n",
    "    print(coeff.sort_values(by='Coef est',ascending=False))"
   ]
  },
  {
   "cell_type": "code",
   "execution_count": 168,
   "metadata": {},
   "outputs": [
    {
     "name": "stdout",
     "output_type": "stream",
     "text": [
      "Model score :  0.8285710606739998\n",
      "MSE :  5580929.431773531\n",
      "             0   Coef est\n",
      "0   wheel_base  86.986891\n",
      "2  engine_size  57.724754\n",
      "1  curb_weight   5.917998\n",
      "3  highway_mpg -70.843305\n"
     ]
    }
   ],
   "source": [
    "x = df.loc[:,['wheel_base','curb_weight','engine_size','highway_mpg']]\n",
    "y= df['price']\n",
    "\n",
    "linear_regression(x,y)"
   ]
  },
  {
   "cell_type": "markdown",
   "metadata": {},
   "source": [
    "Not bad for the first time. But needed to develop. We gave only 4 features."
   ]
  },
  {
   "cell_type": "markdown",
   "metadata": {},
   "source": [
    "#### Okay, in my opinion \"make\" column is important because car make affect car price."
   ]
  },
  {
   "cell_type": "code",
   "execution_count": 10,
   "metadata": {},
   "outputs": [
    {
     "data": {
      "text/plain": [
       "price                 1.000000\n",
       "curb_weight           0.893639\n",
       "width                 0.843371\n",
       "engine_size           0.841496\n",
       "length                0.760952\n",
       "wheel_base            0.734419\n",
       "make_mercedes-benz    0.562170\n",
       "make_volvo            0.307898\n",
       "make_jaguar           0.282472\n",
       "height                0.244836\n",
       "compression_ratio     0.209361\n",
       "make_bmw              0.203206\n",
       "make_audi             0.186448\n",
       "make_peugot           0.157958\n",
       "make_porsche          0.143546\n",
       "make_saab             0.127673\n",
       "index                 0.034104\n",
       "make_nissan          -0.062812\n",
       "make_volkswagen      -0.106364\n",
       "make_mazda           -0.110073\n",
       "make_chevrolet       -0.128720\n",
       "make_subaru          -0.141629\n",
       "make_dodge           -0.143604\n",
       "make_plymouth        -0.144733\n",
       "make_toyota          -0.146905\n",
       "make_mitsubishi      -0.160617\n",
       "symboling            -0.162794\n",
       "make_honda           -0.166074\n",
       "city_mpg             -0.692273\n",
       "highway_mpg          -0.720090\n",
       "Name: price, dtype: float64"
      ]
     },
     "execution_count": 10,
     "metadata": {},
     "output_type": "execute_result"
    }
   ],
   "source": [
    "car_copy = df.select_dtypes(exclude=['object']).copy()\n",
    "car_copy['make'] = df['make']\n",
    "car_copy = pd.get_dummies(car_copy,columns=['make'])\n",
    "car_copy.corr()['price'].sort_values(ascending=False)"
   ]
  },
  {
   "cell_type": "markdown",
   "metadata": {},
   "source": [
    "### Price column are affected by some \"make\" columns. "
   ]
  },
  {
   "cell_type": "code",
   "execution_count": 11,
   "metadata": {},
   "outputs": [
    {
     "name": "stdout",
     "output_type": "stream",
     "text": [
      "Model score :  0.9058588914829636\n",
      "MSE :  3064796.908434403\n",
      "                     0      Coef est\n",
      "12            make_bmw  24482.144800\n",
      "11           make_audi  23649.509066\n",
      "16         make_jaguar  22248.936727\n",
      "18  make_mercedes-benz  14917.858365\n",
      "13      make_chevrolet  12283.234133\n",
      "14          make_dodge  10761.563028\n",
      "15          make_honda   9029.964414\n",
      "17          make_mazda   4523.340756\n",
      "4                width    393.393051\n",
      "0                index    232.776845\n",
      "1            symboling    195.824356\n",
      "10         highway_mpg     33.916371\n",
      "6          curb_weight      6.301049\n",
      "7          engine_size     -1.418161\n",
      "8    compression_ratio    -29.146693\n",
      "5               height    -33.358221\n",
      "9             city_mpg    -43.616797\n",
      "3               length    -99.286966\n",
      "2           wheel_base   -126.945047\n",
      "19     make_mitsubishi  -2795.641512\n",
      "23        make_porsche  -3791.093869\n",
      "20         make_nissan  -4339.068368\n",
      "21         make_peugot  -5111.116525\n",
      "24           make_saab  -9665.979123\n",
      "22       make_plymouth -11693.726415\n",
      "25         make_subaru -16592.843935\n",
      "26         make_toyota -20309.043366\n",
      "28          make_volvo -21987.709769\n",
      "27     make_volkswagen -25610.328407\n"
     ]
    },
    {
     "data": {
      "image/png": "[encoded data removed]",
      "text/plain": [
       "<Figure size 1152x720 with 1 Axes>"
      ]
     },
     "metadata": {
      "needs_background": "light"
     },
     "output_type": "display_data"
    }
   ],
   "source": [
    "# Lets try regression with new columns.\n",
    "x,y = car_copy.drop('price',axis=1) , car_copy['price']\n",
    "linear_regression(x,y)"
   ]
  },
  {
   "cell_type": "markdown",
   "metadata": {},
   "source": [
    "Woow impressing. I just add 'make' columns (in dummy state). r^2 is going to well, but coef value not well yet."
   ]
  },
  {
   "cell_type": "code",
   "execution_count": 12,
   "metadata": {},
   "outputs": [],
   "source": [
    "car_copy['horsepower'] = df['horsepower']\n",
    "car_copy['horsepower'] = car_copy['horsepower'].astype(int)"
   ]
  },
  {
   "cell_type": "code",
   "execution_count": 115,
   "metadata": {},
   "outputs": [
    {
     "name": "stdout",
     "output_type": "stream",
     "text": [
      "Model score :  0.9247606429462951\n",
      "MSE :  0.01367031579512394\n",
      "                     0  Coef est\n",
      "0             make_bmw  0.493181\n",
      "16        make_porsche  0.467706\n",
      "6   make_mercedes_benz  0.378625\n",
      "1            make_audi  0.341341\n",
      "18           make_saab  0.129957\n",
      "22          make_volvo  0.118541\n",
      "2          make_jaguar  0.056714\n",
      "17         make_peugot  0.044565\n",
      "5           make_honda  0.032475\n",
      "8          highway_mpg  0.007831\n",
      "12          wheel_base  0.005778\n",
      "7           make_mazda  0.005406\n",
      "10          horsepower  0.003525\n",
      "9          curb_weight  0.000464\n",
      "11         engine_size -0.000014\n",
      "13            city_mpg -0.008929\n",
      "3       make_chevrolet -0.017432\n",
      "21         make_toyota -0.030973\n",
      "15         make_nissan -0.033656\n",
      "20         make_subaru -0.055300\n",
      "4           make_dodge -0.084447\n",
      "19       make_plymouth -0.127387\n",
      "14     make_mitsubishi -0.134475\n"
     ]
    }
   ],
   "source": [
    "#car_copy['log_price'] = np.log(car_copy.price)\n",
    "#car_copy.rename(columns={'make_mercedes-benz':'make_mercedes_benz'},inplace=True)\n",
    "y = car_copy['log_price']\n",
    "x = car_copy.loc[:,['make_bmw','make_audi','make_jaguar','make_chevrolet','make_dodge','make_honda','make_mercedes_benz',\n",
    "                   'make_mazda','highway_mpg','curb_weight','horsepower','engine_size','wheel_base','city_mpg',\n",
    "                   'make_mitsubishi','make_nissan','make_porsche','make_peugot','make_saab','make_plymouth','make_subaru',\n",
    "                   'make_toyota','make_volvo']]\n",
    "linear_regression(x,y)"
   ]
  },
  {
   "cell_type": "markdown",
   "metadata": {},
   "source": [
    "Better coef estimate and as you can see r^2 going to well again! "
   ]
  },
  {
   "cell_type": "markdown",
   "metadata": {},
   "source": [
    "### Polynomial Model"
   ]
  },
  {
   "cell_type": "code",
   "execution_count": 209,
   "metadata": {},
   "outputs": [],
   "source": [
    "from sklearn.preprocessing import PolynomialFeatures\n",
    "from sklearn.pipeline import make_pipeline\n",
    "from sklearn.metrics import mean_squared_error, r2_score\n",
    "from sklearn.preprocessing import StandardScaler\n",
    "\n",
    "\n",
    "def polly_reg(x,y):\n",
    "    \n",
    "    x_train,x_test,y_train,y_test = train_test_split(x,y,test_size=0.2,random_state=12)\n",
    "    for i in range(4):\n",
    "        polly = PolynomialFeatures(degree=i)\n",
    "        x_train_polly = polly.fit_transform(x_train)\n",
    "    \n",
    "        model = LinearRegression()\n",
    "        model.fit(x_train_polly,y_train)\n",
    "    \n",
    "        poly_train_pred = model.predict(x_train_polly)\n",
    "    \n",
    "        poly_test_predict = model.predict(polly.fit_transform(x_test))\n",
    "    \n",
    "        print(f\"Train r^2 degree {i}: \",r2_score(poly_train_pred,y_train))\n",
    "        print(f\"Test r^2 degree {i} : \",r2_score(poly_test_predict,y_test))\n",
    "        "
   ]
  },
  {
   "cell_type": "code",
   "execution_count": 210,
   "metadata": {},
   "outputs": [
    {
     "name": "stdout",
     "output_type": "stream",
     "text": [
      "Train r^2 degree 0:  -1.0572322755400897e+31\n",
      "Test r^2 degree 0 :  0.0\n",
      "Train r^2 degree 1:  0.7777486192895431\n",
      "Test r^2 degree 1 :  0.7077011986505908\n",
      "Train r^2 degree 2:  0.871560514125421\n",
      "Test r^2 degree 2 :  0.6857865053635535\n",
      "Train r^2 degree 3:  0.9199177223549513\n",
      "Test r^2 degree 3 :  0.6124708950237667\n"
     ]
    }
   ],
   "source": [
    "polly_reg(x,y)"
   ]
  },
  {
   "cell_type": "code",
   "execution_count": null,
   "metadata": {},
   "outputs": [],
   "source": []
  }
 ],
 "metadata": {
  "kernelspec": {
   "display_name": "Python 3",
   "language": "python",
   "name": "python3"
  },
  "language_info": {
   "codemirror_mode": {
    "name": "ipython",
    "version": 3
   },
   "file_extension": ".py",
   "mimetype": "text/x-python",
   "name": "python",
   "nbconvert_exporter": "python",
   "pygments_lexer": "ipython3",
   "version": "3.7.4"
  }
 },
 "nbformat": 4,
 "nbformat_minor": 2
}
